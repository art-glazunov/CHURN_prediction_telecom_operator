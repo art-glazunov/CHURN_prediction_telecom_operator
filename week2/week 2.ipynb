{
 "cells": [
  {
   "cell_type": "code",
   "execution_count": 3,
   "metadata": {},
   "outputs": [],
   "source": [
    "import pandas as pd\n",
    "from sklearn.model_selection import train_test_split\n",
    "\n",
    "features = pd.read_csv('orange_small_churn_data.train')\n",
    "labels = pd.read_csv('orange_small_churn_labels.train',header= None,names=['target'])\n",
    "\n",
    "feats_train,feats_val,labels_train,labels_val = train_test_split(features,labels, test_size = 0.3,\\\n",
    "                                                                   shuffle=True,random_state=42,\\\n",
    "                                                                   stratify = labels)\n",
    "feats_val.to_csv('Features_validation.csv',sep=';',index=False)\n",
    "labels_val.to_csv('Labels_validation.csv',index=False)\n"
   ]
  },
  {
   "cell_type": "code",
   "execution_count": 2,
   "metadata": {},
   "outputs": [
    {
     "name": "stdout",
     "output_type": "stream",
     "text": [
      "Доля класса \"не отток\": 0.9255833333333333\n",
      "Доля класса \"отток\": 0.07441666666666667\n"
     ]
    }
   ],
   "source": [
    "data = pd.concat([feats_val,labels_val],axis=1)\n",
    "print(f'Доля класса \"не отток\": {(data.target==-1).mean()}')\n",
    "\n",
    "print(f'Доля класса \"отток\": {(data.target==1).mean()}')"
   ]
  },
  {
   "cell_type": "markdown",
   "metadata": {},
   "source": [
    "Подумайте и предложите несколько способов (не менее 3х) обработки категориальных признаков, для того, чтобы их можно было использовать при построении модели. Обратите внимание на модуль sklearn.preprocessing. Начать поиски можно с sklearn.preprocessing.OneHotEncoder.\n",
    "\n",
    "1. Просто присвоить каждому значению свое целое число. Можно использовать sklearn.preprocessing.LabelEncoder. Минус в том, что мы навязываем порядок, которого нет, также возникает вопрос, что делать, если признак будет принимать новые значения.\n",
    "2. Сделать преобразование sklearn.preprocessing.OneHotEncoder (или pandas.get_dummies()). Данное преобразование даёт для каждого значения категориального признака свой индикаторный признак (1 / 0). Минус в том, что мы получим очень много признаков, также будет храниться соответствие признак-значение для каждого признака.\n",
    "3. Хеширование признаков. Для каждой строки \"fe=value\" находится хеш-сумма, далее  можно взять остаток от деления на n (ограничение на количество признаков) и получить индекс в хеш таблице. Напоминает предыдущий, но позволяет ограничить количество признаков, при этом хранить соответствие признак-значение  не нужно, хеш функция (без учета коллизий, конечно) дает однозначное соответствие.\n",
    "4. Разбить область значений признака на категории (можно попробовать использовать другие категориальные признаки для этого), потом просто заменить значения признака на название категории. Так сократим область значений. Затем используем дамми (one-hot) кодирование.\n",
    " "
   ]
  },
  {
   "cell_type": "markdown",
   "metadata": {},
   "source": [
    "Подумайте, с помощью какой метрики качества лучше всего оценивать качество будущей модели, какой будет ключевая метрика качества? Поясните свой выбор.\n",
    "\n",
    "- Задача крайне не сбалансирована. Метрика Accuracy практически бесполезна.  Думаю, что качество алгоритма оценим по AUR ROC (нечувствительна к несбалансированности)."
   ]
  },
  {
   "cell_type": "markdown",
   "metadata": {},
   "source": [
    "Какие вспомогательные метрики качества имеет смысл считать, чтобы более полно оценить качество модели, понять, где её слабые стороны и что нужно улучшать?\n",
    "\n",
    "- Дополнительно исследуем точность и полноту  (precision,recall), затем можно подобрать порог для данной конкретной задачи по графикам. Другой вариант, исследовать f-меру, найти оптимальный порог по ней."
   ]
  },
  {
   "cell_type": "markdown",
   "metadata": {},
   "source": [
    "Подберите оптимальную стратегию проведения кросс-валидации: решите, на сколько фолдов вы будете делить выборку? Выберите тип разбиения данных (k-fold, stratified k-fold, shuffle split, leave one out). Поясните ваш выбор.\n",
    "\n",
    "- В связи с несбалансированностью, думаю использовать stratified k-fold с 3 или 5 фолдами,также можно использовать shaffle = True, чтобы внести элемент случайности в разбиение и посмотреть на  отличия в качестве. Больше фолдов - затратно для моей машины, к тому же редко используется. "
   ]
  },
  {
   "cell_type": "code",
   "execution_count": null,
   "metadata": {},
   "outputs": [],
   "source": []
  },
  {
   "cell_type": "code",
   "execution_count": null,
   "metadata": {},
   "outputs": [],
   "source": []
  }
 ],
 "metadata": {
  "kernelspec": {
   "display_name": "Python 3",
   "language": "python",
   "name": "python3"
  },
  "language_info": {
   "codemirror_mode": {
    "name": "ipython",
    "version": 3
   },
   "file_extension": ".py",
   "mimetype": "text/x-python",
   "name": "python",
   "nbconvert_exporter": "python",
   "pygments_lexer": "ipython3",
   "version": "3.7.3"
  }
 },
 "nbformat": 4,
 "nbformat_minor": 2
}
